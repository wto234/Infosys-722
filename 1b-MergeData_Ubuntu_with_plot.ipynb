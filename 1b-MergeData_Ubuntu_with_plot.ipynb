{
 "cells": [
  {
   "cell_type": "code",
   "execution_count": 1,
   "metadata": {},
   "outputs": [],
   "source": [
    "from IPython.core.interactiveshell import InteractiveShell\n",
    "InteractiveShell.ast_node_interactivity = \"all\""
   ]
  },
  {
   "cell_type": "code",
   "execution_count": 2,
   "metadata": {},
   "outputs": [],
   "source": [
    "#import Libraries\n",
    "import findspark\n",
    "findspark.init('./spark-2.1.1-bin-hadoop2.7')\n",
    "import pyspark\n",
    "from pyspark.sql import SparkSession \n",
    "from pyspark import SparkContext, SparkConf\n",
    "from pyspark.sql import SQLContext\n",
    "import pyspark.sql.functions as F"
   ]
  },
  {
   "cell_type": "code",
   "execution_count": 3,
   "metadata": {},
   "outputs": [],
   "source": [
    "# sc = SparkContext()\n",
    "conf = SparkConf().setAppName(\"pySparkMerge\").setMaster(\"local\")\n",
    "sc = SparkContext.getOrCreate(conf=conf)"
   ]
  },
  {
   "cell_type": "code",
   "execution_count": 4,
   "metadata": {},
   "outputs": [
    {
     "data": {
      "text/plain": [
       "'2.1.1'"
      ]
     },
     "execution_count": 4,
     "metadata": {},
     "output_type": "execute_result"
    },
    {
     "data": {
      "text/plain": [
       "'3.7'"
      ]
     },
     "execution_count": 4,
     "metadata": {},
     "output_type": "execute_result"
    }
   ],
   "source": [
    "sc.version\n",
    "sc.pythonVer"
   ]
  },
  {
   "cell_type": "code",
   "execution_count": 5,
   "metadata": {},
   "outputs": [],
   "source": [
    "import pandas as pd\n",
    "import numpy as np\n",
    "import matplotlib.pyplot as plt\n",
    "import datetime as dt\n",
    "import pickle\n",
    "import seaborn as sns\n",
    "sns.set()"
   ]
  },
  {
   "cell_type": "code",
   "execution_count": 6,
   "metadata": {},
   "outputs": [],
   "source": [
    "##CREATING \"SPARKSESSION\" from existing \"SPARKCONTEXT\"\n",
    "sqlContext = SQLContext(sc)\n",
    "spark = sqlContext.sparkSession"
   ]
  },
  {
   "cell_type": "code",
   "execution_count": 7,
   "metadata": {},
   "outputs": [
    {
     "name": "stdout",
     "output_type": "stream",
     "text": [
      "+-----------+-----------+------------+--------+----------+-------+\n",
      "|  PatientId|Scholarship|Hipertension|Diabetes|Alcoholism|Handcap|\n",
      "+-----------+-----------+------------+--------+----------+-------+\n",
      "|2.98725E+13|          0|           1|       0|         0|      0|\n",
      "|5.58998E+14|          0|           0|       0|         0|      0|\n",
      "+-----------+-----------+------------+--------+----------+-------+\n",
      "only showing top 2 rows\n",
      "\n",
      "None\n",
      "(110527, 6)\n",
      "+-------------------------+\n",
      "|count(DISTINCT PatientId)|\n",
      "+-------------------------+\n",
      "|                    61744|\n",
      "+-------------------------+\n",
      "\n",
      "None\n"
     ]
    }
   ],
   "source": [
    "c1 = spark.read.csv(\"./KaggleV2-May-2016-d1.csv\", header=True)\n",
    "print(c1.show(2))\n",
    "print((c1.count(), len(c1.columns)))\n",
    "print(c1.select(F.countDistinct(\"PatientId\")).show())"
   ]
  },
  {
   "cell_type": "code",
   "execution_count": 8,
   "metadata": {},
   "outputs": [
    {
     "name": "stdout",
     "output_type": "stream",
     "text": [
      "+-----------+-------------+------+--------------------+--------------------+---+---------------+------------+-------+\n",
      "|  PatientId|AppointmentID|Gender|        ScheduledDay|      AppointmentDay|Age|  Neighbourhood|SMS_received|No-show|\n",
      "+-----------+-------------+------+--------------------+--------------------+---+---------------+------------+-------+\n",
      "|2.98725E+13|      5642903|     F|2016-04-29T18:38:08Z|2016-04-29T00:00:00Z| 62|JARDIM DA PENHA|           0|     No|\n",
      "|5.58998E+14|      5642503|     M|2016-04-29T16:08:27Z|2016-04-29T00:00:00Z| 56|JARDIM DA PENHA|           0|     No|\n",
      "+-----------+-------------+------+--------------------+--------------------+---+---------------+------------+-------+\n",
      "only showing top 2 rows\n",
      "\n",
      "None\n",
      "(110527, 9)\n",
      "+-------------------------+\n",
      "|count(DISTINCT PatientId)|\n",
      "+-------------------------+\n",
      "|                    61744|\n",
      "+-------------------------+\n",
      "\n",
      "None\n"
     ]
    }
   ],
   "source": [
    "c2 = spark.read.csv(\"./KaggleV2-May-2016-d2.csv\", header=True)\n",
    "print(c2.show(2))\n",
    "print((c2.count(), len(c2.columns)))\n",
    "\n",
    "# print(c2.select(\"PatientId\").distinct().show())\n",
    "print(c2.select(F.countDistinct(\"PatientId\")).show())"
   ]
  },
  {
   "cell_type": "code",
   "execution_count": 9,
   "metadata": {},
   "outputs": [],
   "source": [
    "###rename the column\n",
    "c1 = c1.withColumnRenamed('PatientId', 'PatientId_x')\n",
    "c2 = c2.withColumnRenamed('PatientId', 'PatientId_y')"
   ]
  },
  {
   "cell_type": "code",
   "execution_count": 10,
   "metadata": {},
   "outputs": [
    {
     "name": "stdout",
     "output_type": "stream",
     "text": [
      "+-----------+-----------+------------+--------+----------+-------+---+-----------+-------------+------+--------------------+--------------------+---+-----------------+------------+-------+---+\n",
      "|PatientId_x|Scholarship|Hipertension|Diabetes|Alcoholism|Handcap| id|PatientId_y|AppointmentID|Gender|        ScheduledDay|      AppointmentDay|Age|    Neighbourhood|SMS_received|No-show| id|\n",
      "+-----------+-----------+------------+--------+----------+-------+---+-----------+-------------+------+--------------------+--------------------+---+-----------------+------------+-------+---+\n",
      "|2.98725E+13|          0|           1|       0|         0|      0|  0|2.98725E+13|      5642903|     F|2016-04-29T18:38:08Z|2016-04-29T00:00:00Z| 62|  JARDIM DA PENHA|           0|     No|  0|\n",
      "|5.58998E+14|          0|           0|       0|         0|      0|  1|5.58998E+14|      5642503|     M|2016-04-29T16:08:27Z|2016-04-29T00:00:00Z| 56|  JARDIM DA PENHA|           0|     No|  1|\n",
      "|4.26296E+12|          0|           0|       0|         0|      0|  2|4.26296E+12|      5642549|     F|2016-04-29T16:19:04Z|2016-04-29T00:00:00Z| 62|    MATA DA PRAIA|           0|     No|  2|\n",
      "|8.67951E+11|          0|           0|       0|         0|      0|  3|8.67951E+11|      5642828|     F|2016-04-29T17:29:31Z|2016-04-29T00:00:00Z|  8|PONTAL DE CAMBURI|           0|     No|  3|\n",
      "+-----------+-----------+------------+--------+----------+-------+---+-----------+-------------+------+--------------------+--------------------+---+-----------------+------------+-------+---+\n",
      "only showing top 4 rows\n",
      "\n",
      "110527 17\n"
     ]
    }
   ],
   "source": [
    "import pyspark.sql.functions as sparkf\n",
    "from pyspark.sql.functions import col\n",
    "\n",
    "# This will return a new DF with all the columns + id\n",
    "\n",
    "c1 = c1.withColumn('id', sparkf.monotonically_increasing_id())\n",
    "c2 = c2.withColumn('id', sparkf.monotonically_increasing_id())\n",
    "\n",
    "## MERGE FILES FROM DIFFERENT SOURCES\n",
    "# Same index from both file\n",
    "merged = c1.join(c2, c1.id == c2.id, 'left').drop(c2.id)\n",
    "merged.show(4)\n",
    "print(merged.count(), len(merged.columns))"
   ]
  },
  {
   "cell_type": "code",
   "execution_count": 11,
   "metadata": {},
   "outputs": [
    {
     "data": {
      "text/plain": [
       "['PatientId',\n",
       " 'Scholarship',\n",
       " 'Hipertension',\n",
       " 'Diabetes',\n",
       " 'Alcoholism',\n",
       " 'Handcap',\n",
       " 'AppointmentID',\n",
       " 'Gender',\n",
       " 'ScheduledDay',\n",
       " 'AppointmentDay',\n",
       " 'Age',\n",
       " 'Neighbourhood',\n",
       " 'SMS_received',\n",
       " 'No-show']"
      ]
     },
     "execution_count": 11,
     "metadata": {},
     "output_type": "execute_result"
    }
   ],
   "source": [
    "# Drop the splits column\n",
    "merged = merged.drop('PatientId_y')\n",
    "merged = merged.drop('id')\n",
    "merged = merged.withColumnRenamed('PatientId_x', 'PatientId')\n",
    "merged.columns"
   ]
  },
  {
   "cell_type": "code",
   "execution_count": 12,
   "metadata": {},
   "outputs": [],
   "source": [
    "merged.write.csv('./KaggleV2-chart.csv', header=True)"
   ]
  },
  {
   "cell_type": "code",
   "execution_count": 13,
   "metadata": {},
   "outputs": [
    {
     "name": "stdout",
     "output_type": "stream",
     "text": [
      "110527\n",
      "(110527, 14)\n"
     ]
    },
    {
     "data": {
      "text/plain": [
       "['PatientId',\n",
       " 'Scholarship',\n",
       " 'Hipertension',\n",
       " 'Diabetes',\n",
       " 'Alcoholism',\n",
       " 'Handcap',\n",
       " 'AppointmentID',\n",
       " 'Gender',\n",
       " 'ScheduledDay',\n",
       " 'AppointmentDay',\n",
       " 'Age',\n",
       " 'Neighbourhood',\n",
       " 'SMS_received',\n",
       " 'No-show']"
      ]
     },
     "execution_count": 13,
     "metadata": {},
     "output_type": "execute_result"
    }
   ],
   "source": [
    "df0 = spark.read.csv(\"./KaggleV2-chart.csv/\", header=True)\n",
    "\n",
    "print(df0.count(), )\n",
    "print((df0.count(), len(df0.columns)))\n",
    "\n",
    "df0.columns"
   ]
  },
  {
   "cell_type": "code",
   "execution_count": 14,
   "metadata": {
    "scrolled": true
   },
   "outputs": [
    {
     "name": "stdout",
     "output_type": "stream",
     "text": [
      "+-------+--------------------+-------------------+-------------------+-------------------+--------------------+--------------------+-----------------+------+--------------------+--------------------+------------------+-------------+-------------------+-------+\n",
      "|summary|           PatientId|        Scholarship|       Hipertension|           Diabetes|          Alcoholism|             Handcap|    AppointmentID|Gender|        ScheduledDay|      AppointmentDay|               Age|Neighbourhood|       SMS_received|No-show|\n",
      "+-------+--------------------+-------------------+-------------------+-------------------+--------------------+--------------------+-----------------+------+--------------------+--------------------+------------------+-------------+-------------------+-------+\n",
      "|  count|              110527|             110527|             110527|             110527|              110527|              110527|           110527|110527|              110527|              110527|            110527|       110527|             110468| 110527|\n",
      "|   mean|1.474962664134735...|0.09826558216544373| 0.1972459218109602|0.07186479321794674|0.030399811810688793|0.022247957512643968|5675305.123426855|  null|                null|                null| 37.08887421173107|         null| 0.3210250932396712|   null|\n",
      "| stddev|2.560949221912867...| 0.2976747541093073|0.39792134994708606|0.25826507350746536|  0.1716855554142438|  0.1615427258142786|  71295.751539677|  null|                null|                null|23.110204963682676|         null|0.46687252639272864|   null|\n",
      "|    min|         1.11115E+13|                  0|                  0|                  0|                   0|                   0|          5030230|     F|2015-11-10T07:13:56Z|2016-04-29T00:00:00Z|                -1|    AEROPORTO|                  0|     No|\n",
      "|    max|         99991756798|                  1|                  1|                  1|                   1|                   4|          5790484|     M|2016-06-08T20:07:23Z|2016-06-08T00:00:00Z|                99|   VILA RUBIM|                  1|    Yes|\n",
      "+-------+--------------------+-------------------+-------------------+-------------------+--------------------+--------------------+-----------------+------+--------------------+--------------------+------------------+-------------+-------------------+-------+\n",
      "\n",
      "None\n",
      "root\n",
      " |-- PatientId: string (nullable = true)\n",
      " |-- Scholarship: string (nullable = true)\n",
      " |-- Hipertension: string (nullable = true)\n",
      " |-- Diabetes: string (nullable = true)\n",
      " |-- Alcoholism: string (nullable = true)\n",
      " |-- Handcap: string (nullable = true)\n",
      " |-- AppointmentID: string (nullable = true)\n",
      " |-- Gender: string (nullable = true)\n",
      " |-- ScheduledDay: string (nullable = true)\n",
      " |-- AppointmentDay: string (nullable = true)\n",
      " |-- Age: string (nullable = true)\n",
      " |-- Neighbourhood: string (nullable = true)\n",
      " |-- SMS_received: string (nullable = true)\n",
      " |-- No-show: string (nullable = true)\n",
      "\n",
      "None\n"
     ]
    }
   ],
   "source": [
    "## INITIAL VIEW ON DATA ## descripe in pyspark\n",
    "summary1A = df0.describe().show()\n",
    "print(summary1A)\n",
    "print(df0.printSchema())\n",
    "# print(df0.summary().show())"
   ]
  },
  {
   "cell_type": "code",
   "execution_count": 15,
   "metadata": {},
   "outputs": [
    {
     "name": "stdout",
     "output_type": "stream",
     "text": [
      "+---------+-----------+------------+--------+----------+-------+-------------+------+------------+--------------+---+-------------+------------+-------+\n",
      "|PatientId|Scholarship|Hipertension|Diabetes|Alcoholism|Handcap|AppointmentID|Gender|ScheduledDay|AppointmentDay|Age|Neighbourhood|SMS_received|No-show|\n",
      "+---------+-----------+------------+--------+----------+-------+-------------+------+------------+--------------+---+-------------+------------+-------+\n",
      "|        0|          0|           0|       0|         0|      0|            0|     0|           0|             0|  0|            0|          59|      0|\n",
      "+---------+-----------+------------+--------+----------+-------+-------------+------+------------+--------------+---+-------------+------------+-------+\n",
      "\n",
      "None\n"
     ]
    },
    {
     "data": {
      "text/plain": [
       "59"
      ]
     },
     "execution_count": 15,
     "metadata": {},
     "output_type": "execute_result"
    },
    {
     "data": {
      "text/plain": [
       "0.05338062192948329"
      ]
     },
     "execution_count": 15,
     "metadata": {},
     "output_type": "execute_result"
    }
   ],
   "source": [
    "## CHECK ANY MISSING VALUSE\n",
    "### Get count of both null and missing values in pyspark\n",
    "from pyspark.sql.functions import isnan, when, count, col\n",
    "print( df0.select([count(when(isnan(c) | col(c).isNull(), c)).alias(c) for c in df0.columns]).show() )\n",
    "\n",
    "# No. of missing value in the 'SMS_received'\n",
    "df0.where(col('SMS_received').isNull()).count()\n",
    "\n",
    "# Percentage of missing value in the 'SMS_received'\n",
    "df0.where(col('SMS_received').isNull()).count()/df0.count()*100"
   ]
  },
  {
   "cell_type": "code",
   "execution_count": 16,
   "metadata": {},
   "outputs": [
    {
     "name": "stdout",
     "output_type": "stream",
     "text": [
      "+-----------+-----------+------------+--------+----------+-------+-------------+------+--------------------+--------------------+---+---------------+------------+-------+\n",
      "|  PatientId|Scholarship|Hipertension|Diabetes|Alcoholism|Handcap|AppointmentID|Gender|        ScheduledDay|      AppointmentDay|Age|  Neighbourhood|SMS_received|No-show|\n",
      "+-----------+-----------+------------+--------+----------+-------+-------------+------+--------------------+--------------------+---+---------------+------------+-------+\n",
      "|2.98725E+13|          0|           1|       0|         0|      0|      5642903|     F|2016-04-29T18:38:08Z|2016-04-29T00:00:00Z| 62|JARDIM DA PENHA|           0|     No|\n",
      "|5.58998E+14|          0|           0|       0|         0|      0|      5642503|     M|2016-04-29T16:08:27Z|2016-04-29T00:00:00Z| 56|JARDIM DA PENHA|           0|     No|\n",
      "+-----------+-----------+------------+--------+----------+-------+-------------+------+--------------------+--------------------+---+---------------+------------+-------+\n",
      "only showing top 2 rows\n",
      "\n",
      "root\n",
      " |-- PatientId: string (nullable = true)\n",
      " |-- Scholarship: integer (nullable = true)\n",
      " |-- Hipertension: integer (nullable = true)\n",
      " |-- Diabetes: integer (nullable = true)\n",
      " |-- Alcoholism: integer (nullable = true)\n",
      " |-- Handcap: integer (nullable = true)\n",
      " |-- AppointmentID: integer (nullable = true)\n",
      " |-- Gender: string (nullable = true)\n",
      " |-- ScheduledDay: string (nullable = true)\n",
      " |-- AppointmentDay: string (nullable = true)\n",
      " |-- Age: integer (nullable = true)\n",
      " |-- Neighbourhood: string (nullable = true)\n",
      " |-- SMS_received: integer (nullable = true)\n",
      " |-- No-show: string (nullable = true)\n",
      "\n"
     ]
    }
   ],
   "source": [
    "# df0.printSchema()\n",
    "df0.show(2)\n",
    "from pyspark.sql.types import IntegerType\n",
    "df0 = df0.withColumn(\"Scholarship\", df0[\"Scholarship\"].cast(IntegerType()))\n",
    "df0 = df0.withColumn(\"Hipertension\", df0[\"Hipertension\"].cast(IntegerType()))\n",
    "df0 = df0.withColumn(\"Diabetes\", df0[\"Diabetes\"].cast(IntegerType()))\n",
    "df0 = df0.withColumn(\"Alcoholism\", df0[\"Alcoholism\"].cast(IntegerType()))\n",
    "df0 = df0.withColumn(\"Handcap\", df0[\"Handcap\"].cast(IntegerType()))\n",
    "df0 = df0.withColumn(\"AppointmentID\", df0[\"AppointmentID\"].cast(IntegerType()))\n",
    "df0 = df0.withColumn(\"Age\", df0[\"Age\"].cast(IntegerType()))\n",
    "df0 = df0.withColumn(\"SMS_received\", df0[\"SMS_received\"].cast(IntegerType()))\n",
    "df0.printSchema()"
   ]
  },
  {
   "cell_type": "code",
   "execution_count": 17,
   "metadata": {
    "scrolled": false
   },
   "outputs": [
    {
     "name": "stdout",
     "output_type": "stream",
     "text": [
      "+-----------+------------+\n",
      "|  PatientId|Hipertension|\n",
      "+-----------+------------+\n",
      "|2.98725E+13|           1|\n",
      "|5.58998E+14|           0|\n",
      "|4.26296E+12|           0|\n",
      "|8.67951E+11|           0|\n",
      "|8.84119E+12|           1|\n",
      "|9.59851E+13|           1|\n",
      "|7.33688E+14|           0|\n",
      "|3.44983E+12|           0|\n",
      "|5.63947E+13|           0|\n",
      "|7.81246E+13|           0|\n",
      "|7.34536E+14|           0|\n",
      "|7.54295E+12|           0|\n",
      "|5.66655E+14|           0|\n",
      "|9.11395E+14|           0|\n",
      "|9.98847E+13|           0|\n",
      "|99948393975|           0|\n",
      "|8.45744E+13|           0|\n",
      "| 1.4795E+13|           0|\n",
      "|1.71354E+13|           0|\n",
      "|7.22329E+12|           0|\n",
      "+-----------+------------+\n",
      "only showing top 20 rows\n",
      "\n"
     ]
    }
   ],
   "source": [
    "df0['PatientId','Hipertension'].show()"
   ]
  },
  {
   "cell_type": "code",
   "execution_count": 18,
   "metadata": {},
   "outputs": [],
   "source": [
    "df0 = df0.toPandas()"
   ]
  },
  {
   "cell_type": "code",
   "execution_count": 19,
   "metadata": {
    "scrolled": true
   },
   "outputs": [
    {
     "name": "stdout",
     "output_type": "stream",
     "text": [
      "          PatientId  Scholarship  Hipertension  Diabetes  Alcoholism  Handcap  \\\n",
      "0       2.98725E+13            0             1         0           0        0   \n",
      "1       5.58998E+14            0             0         0           0        0   \n",
      "2       4.26296E+12            0             0         0           0        0   \n",
      "3       8.67951E+11            0             0         0           0        0   \n",
      "4       8.84119E+12            0             1         1           0        0   \n",
      "5       9.59851E+13            0             1         0           0        0   \n",
      "6       7.33688E+14            0             0         0           0        0   \n",
      "7       3.44983E+12            0             0         0           0        0   \n",
      "8       5.63947E+13            0             0         0           0        0   \n",
      "9       7.81246E+13            0             0         0           0        0   \n",
      "10      7.34536E+14            0             0         0           0        0   \n",
      "11      7.54295E+12            0             0         0           0        0   \n",
      "12      5.66655E+14            1             0         0           0        0   \n",
      "13      9.11395E+14            0             0         0           0        0   \n",
      "14      9.98847E+13            0             0         0           0        0   \n",
      "15      99948393975            0             0         0           0        0   \n",
      "16      8.45744E+13            0             0         0           0        0   \n",
      "17       1.4795E+13            1             0         0           0        0   \n",
      "18      1.71354E+13            1             0         0           0        0   \n",
      "19      7.22329E+12            0             0         0           0        0   \n",
      "20      6.22257E+14            0             0         0           0        0   \n",
      "21      1.21548E+13            0             0         0           0        0   \n",
      "22       8.6323E+14            0             0         0           0        0   \n",
      "23      2.13754E+14            0             0         0           0        0   \n",
      "24      8.73486E+12            0             0         0           0        0   \n",
      "25      5.81937E+12            0             1         0           0        0   \n",
      "26      25787851512            0             1         0           0        0   \n",
      "27      1.21548E+13            0             0         0           0        0   \n",
      "28      5.92617E+12            0             0         0           0        0   \n",
      "29      1.22578E+12            0             0         0           0        0   \n",
      "...             ...          ...           ...       ...         ...      ...   \n",
      "110497  7.93589E+14            0             0         0           0        0   \n",
      "110498  9.43365E+13            0             0         0           0        0   \n",
      "110499  8.21969E+14            0             1         1           0        0   \n",
      "110500  4.43438E+14            0             0         0           0        0   \n",
      "110501  4.54425E+11            0             0         0           0        0   \n",
      "110502  7.31623E+14            0             0         0           0        0   \n",
      "110503  2.36218E+13            0             0         0           0        0   \n",
      "110504  9.94798E+12            0             0         0           0        0   \n",
      "110505  5.66734E+13            0             0         0           0        0   \n",
      "110506  8.97388E+11            0             0         0           0        0   \n",
      "110507  4.76946E+14            0             0         0           0        0   \n",
      "110508  9.43365E+13            0             0         0           0        0   \n",
      "110509  4.95297E+14            0             0         0           0        0   \n",
      "110510  2.36218E+13            0             0         0           0        0   \n",
      "110511    8.236E+11            0             0         0           0        0   \n",
      "110512  9.87625E+13            0             0         0           0        0   \n",
      "110513  8.67478E+13            0             0         0           0        0   \n",
      "110514  2.69569E+12            0             0         0           0        0   \n",
      "110515  6.45634E+14            0             1         0           0        0   \n",
      "110516  6.92377E+13            0             0         0           0        0   \n",
      "110517  5.57494E+12            0             0         0           0        0   \n",
      "110518  7.26331E+13            0             0         0           0        0   \n",
      "110519  6.54239E+13            0             0         0           0        0   \n",
      "110520  9.96998E+14            0             0         0           0        0   \n",
      "110521  3.63553E+13            0             0         0           0        0   \n",
      "110522  2.57213E+12            0             0         0           0        0   \n",
      "110523  3.59627E+12            0             0         0           0        0   \n",
      "110524  1.55766E+13            0             0         0           0        0   \n",
      "110525  9.21349E+13            0             0         0           0        0   \n",
      "110526  3.77512E+14            0             0         0           0        0   \n",
      "\n",
      "        AppointmentID Gender          ScheduledDay        AppointmentDay  Age  \\\n",
      "0             5642903      F  2016-04-29T18:38:08Z  2016-04-29T00:00:00Z   62   \n",
      "1             5642503      M  2016-04-29T16:08:27Z  2016-04-29T00:00:00Z   56   \n",
      "2             5642549      F  2016-04-29T16:19:04Z  2016-04-29T00:00:00Z   62   \n",
      "3             5642828      F  2016-04-29T17:29:31Z  2016-04-29T00:00:00Z    8   \n",
      "4             5642494      F  2016-04-29T16:07:23Z  2016-04-29T00:00:00Z   56   \n",
      "5             5626772      F  2016-04-27T08:36:51Z  2016-04-29T00:00:00Z   76   \n",
      "6             5630279      F  2016-04-27T15:05:12Z  2016-04-29T00:00:00Z   23   \n",
      "7             5630575      F  2016-04-27T15:39:58Z  2016-04-29T00:00:00Z   39   \n",
      "8             5638447      F  2016-04-29T08:02:16Z  2016-04-29T00:00:00Z   21   \n",
      "9             5629123      F  2016-04-27T12:48:25Z  2016-04-29T00:00:00Z   19   \n",
      "10            5630213      F  2016-04-27T14:58:11Z  2016-04-29T00:00:00Z   30   \n",
      "11            5620163      M  2016-04-26T08:44:12Z  2016-04-29T00:00:00Z   29   \n",
      "12            5634718      F  2016-04-28T11:33:51Z  2016-04-29T00:00:00Z   22   \n",
      "13            5636249      M  2016-04-28T14:52:07Z  2016-04-29T00:00:00Z   28   \n",
      "14            5633951      F  2016-04-28T10:06:24Z  2016-04-29T00:00:00Z   54   \n",
      "15            5620206      F  2016-04-26T08:47:27Z  2016-04-29T00:00:00Z   15   \n",
      "16            5633121      M  2016-04-28T08:51:47Z  2016-04-29T00:00:00Z   50   \n",
      "17            5633460      F  2016-04-28T09:28:57Z  2016-04-29T00:00:00Z   40   \n",
      "18            5621836      F  2016-04-26T10:54:18Z  2016-04-29T00:00:00Z   30   \n",
      "19            5640433      F  2016-04-29T10:43:14Z  2016-04-29T00:00:00Z   46   \n",
      "20            5626083      F  2016-04-27T07:51:14Z  2016-04-29T00:00:00Z   30   \n",
      "21            5628338      F  2016-04-27T10:50:45Z  2016-04-29T00:00:00Z    4   \n",
      "22            5616091      M  2016-04-25T13:29:16Z  2016-04-29T00:00:00Z   13   \n",
      "23            5634142      F  2016-04-28T10:27:05Z  2016-04-29T00:00:00Z   46   \n",
      "24            5641780      F  2016-04-29T14:19:19Z  2016-04-29T00:00:00Z   65   \n",
      "25            5624020      M  2016-04-26T15:04:17Z  2016-04-29T00:00:00Z   46   \n",
      "26            5641781      F  2016-04-29T14:19:42Z  2016-04-29T00:00:00Z   45   \n",
      "27            5628345      F  2016-04-27T10:51:45Z  2016-04-29T00:00:00Z    4   \n",
      "28            5642400      M  2016-04-29T15:48:02Z  2016-04-29T00:00:00Z   51   \n",
      "29            5642186      F  2016-04-29T15:16:29Z  2016-04-29T00:00:00Z   32   \n",
      "...               ...    ...                   ...                   ...  ...   \n",
      "110497        5757745      M  2016-06-01T09:46:33Z  2016-06-01T00:00:00Z   76   \n",
      "110498        5787655      F  2016-06-08T10:21:14Z  2016-06-08T00:00:00Z   59   \n",
      "110499        5757697      F  2016-06-01T09:42:56Z  2016-06-01T00:00:00Z   66   \n",
      "110500        5787233      F  2016-06-08T09:35:13Z  2016-06-08T00:00:00Z   59   \n",
      "110501        5758133      M  2016-06-01T10:19:12Z  2016-06-01T00:00:00Z   44   \n",
      "110502        5787937      F  2016-06-08T10:50:42Z  2016-06-08T00:00:00Z   22   \n",
      "110503        5759473      F  2016-06-01T13:00:36Z  2016-06-01T00:00:00Z   64   \n",
      "110504        5788052      F  2016-06-08T11:06:21Z  2016-06-08T00:00:00Z    4   \n",
      "110505        5758455      F  2016-06-01T10:45:50Z  2016-06-01T00:00:00Z   55   \n",
      "110506        5758779      M  2016-06-01T11:09:20Z  2016-06-01T00:00:00Z    5   \n",
      "110507        5786918      F  2016-06-08T09:04:18Z  2016-06-08T00:00:00Z    0   \n",
      "110508        5757656      F  2016-06-01T09:41:00Z  2016-06-01T00:00:00Z   59   \n",
      "110509        5786750      M  2016-06-08T08:50:51Z  2016-06-08T00:00:00Z   33   \n",
      "110510        5757587      F  2016-06-01T09:35:48Z  2016-06-01T00:00:00Z   64   \n",
      "110511        5786742      F  2016-06-08T08:50:20Z  2016-06-08T00:00:00Z   14   \n",
      "110512        5786368      F  2016-06-08T08:20:01Z  2016-06-08T00:00:00Z   41   \n",
      "110513        5785964      M  2016-06-08T07:52:55Z  2016-06-08T00:00:00Z    2   \n",
      "110514        5786567      F  2016-06-08T08:35:31Z  2016-06-08T00:00:00Z   58   \n",
      "110515        5778621      M  2016-06-06T15:58:05Z  2016-06-08T00:00:00Z   33   \n",
      "110516        5780205      F  2016-06-07T07:45:16Z  2016-06-08T00:00:00Z   37   \n",
      "110517        5780122      F  2016-06-07T07:38:34Z  2016-06-07T00:00:00Z   19   \n",
      "110518        5630375      F  2016-04-27T15:15:06Z  2016-06-07T00:00:00Z   50   \n",
      "110519        5630447      F  2016-04-27T15:23:14Z  2016-06-07T00:00:00Z   22   \n",
      "110520        5650534      F  2016-05-03T07:51:47Z  2016-06-07T00:00:00Z   42   \n",
      "110521        5651072      F  2016-05-03T08:23:40Z  2016-06-07T00:00:00Z   53   \n",
      "110522        5651768      F  2016-05-03T09:15:35Z  2016-06-07T00:00:00Z   56   \n",
      "110523        5650093      F  2016-05-03T07:27:33Z  2016-06-07T00:00:00Z   51   \n",
      "110524        5630692      F  2016-04-27T16:03:52Z  2016-06-07T00:00:00Z   21   \n",
      "110525        5630323      F  2016-04-27T15:09:23Z  2016-06-07T00:00:00Z   38   \n",
      "110526        5629448      F  2016-04-27T13:30:56Z  2016-06-07T00:00:00Z   54   \n",
      "\n",
      "            Neighbourhood  SMS_received No-show  \n",
      "0         JARDIM DA PENHA           0.0      No  \n",
      "1         JARDIM DA PENHA           0.0      No  \n",
      "2           MATA DA PRAIA           0.0      No  \n",
      "3       PONTAL DE CAMBURI           0.0      No  \n",
      "4         JARDIM DA PENHA           0.0      No  \n",
      "5               REP?BLICA           0.0      No  \n",
      "6              GOIABEIRAS           0.0     Yes  \n",
      "7              GOIABEIRAS           0.0     Yes  \n",
      "8              ANDORINHAS           0.0      No  \n",
      "9               CONQUISTA           0.0      No  \n",
      "10         NOVA PALESTINA           0.0      No  \n",
      "11         NOVA PALESTINA           1.0     Yes  \n",
      "12         NOVA PALESTINA           0.0      No  \n",
      "13         NOVA PALESTINA           0.0      No  \n",
      "14         NOVA PALESTINA           0.0      No  \n",
      "15         NOVA PALESTINA           1.0      No  \n",
      "16         NOVA PALESTINA           0.0      No  \n",
      "17              CONQUISTA           0.0     Yes  \n",
      "18         NOVA PALESTINA           1.0      No  \n",
      "19               DA PENHA           0.0      No  \n",
      "20         NOVA PALESTINA           0.0     Yes  \n",
      "21              CONQUISTA           0.0     Yes  \n",
      "22              CONQUISTA           1.0     Yes  \n",
      "23              CONQUISTA           0.0      No  \n",
      "24             TABUAZEIRO           0.0      No  \n",
      "25              CONQUISTA           1.0      No  \n",
      "26         BENTO FERREIRA           0.0      No  \n",
      "27              CONQUISTA           0.0      No  \n",
      "28              S?O PEDRO           NaN      No  \n",
      "29           SANTA MARTHA           NaN      No  \n",
      "...                   ...           ...     ...  \n",
      "110497        MARIA ORTIZ           0.0      No  \n",
      "110498        MARIA ORTIZ           0.0      No  \n",
      "110499        MARIA ORTIZ           0.0      No  \n",
      "110500        MARIA ORTIZ           0.0      No  \n",
      "110501        MARIA ORTIZ           0.0      No  \n",
      "110502         GOIABEIRAS           0.0      No  \n",
      "110503       SOLON BORGES           0.0      No  \n",
      "110504        MARIA ORTIZ           0.0      No  \n",
      "110505        MARIA ORTIZ           0.0      No  \n",
      "110506        MARIA ORTIZ           0.0      No  \n",
      "110507        MARIA ORTIZ           0.0      No  \n",
      "110508        MARIA ORTIZ           0.0      No  \n",
      "110509        MARIA ORTIZ           0.0      No  \n",
      "110510       SOLON BORGES           0.0      No  \n",
      "110511        MARIA ORTIZ           0.0      No  \n",
      "110512        MARIA ORTIZ           0.0      No  \n",
      "110513    ANT?NIO HON?RIO           0.0      No  \n",
      "110514        MARIA ORTIZ           0.0      No  \n",
      "110515        MARIA ORTIZ           0.0     Yes  \n",
      "110516        MARIA ORTIZ           0.0     Yes  \n",
      "110517        MARIA ORTIZ           0.0      No  \n",
      "110518        MARIA ORTIZ           1.0      No  \n",
      "110519        MARIA ORTIZ           1.0      No  \n",
      "110520        MARIA ORTIZ           1.0      No  \n",
      "110521        MARIA ORTIZ           1.0      No  \n",
      "110522        MARIA ORTIZ           1.0      No  \n",
      "110523        MARIA ORTIZ           1.0      No  \n",
      "110524        MARIA ORTIZ           1.0      No  \n",
      "110525        MARIA ORTIZ           1.0      No  \n",
      "110526        MARIA ORTIZ           1.0      No  \n",
      "\n",
      "[110527 rows x 14 columns]\n"
     ]
    }
   ],
   "source": [
    "print(df0)"
   ]
  },
  {
   "cell_type": "code",
   "execution_count": 20,
   "metadata": {},
   "outputs": [
    {
     "data": {
      "text/plain": [
       "Gender\n",
       "F    71840\n",
       "M    38687\n",
       "dtype: int64"
      ]
     },
     "execution_count": 20,
     "metadata": {},
     "output_type": "execute_result"
    }
   ],
   "source": [
    "#Variable Summary - Gender\n",
    "summary1C = df0.groupby('Gender').size()\n",
    "summary1C\n",
    "levels = np.sort(df0['Gender'].unique()) \n",
    "df0.Gender.value_counts()[levels].plot(kind='bar')"
   ]
  },
  {
   "cell_type": "code",
   "execution_count": 21,
   "metadata": {
    "scrolled": true
   },
   "outputs": [
    {
     "data": {
      "text/plain": [
       "PatientId\n",
       "1.11115E+13     1\n",
       "1.11125E+14     2\n",
       "1.11145E+13     1\n",
       "1.11162E+13     1\n",
       "1.11163E+12     3\n",
       "1.11185E+12     1\n",
       "1.11196E+12     1\n",
       "1.11238E+13     1\n",
       "1.11266E+13     1\n",
       "1.11277E+12     1\n",
       "1.11285E+12     1\n",
       "1.11296E+14     1\n",
       "1.11311E+11     2\n",
       "1.11316E+12     1\n",
       "1.11321E+13     1\n",
       "1.11345E+14     1\n",
       "1.11346E+14     2\n",
       "1.11368E+14     1\n",
       "1.11374E+14     1\n",
       "1.11416E+14     4\n",
       "1.1143E+12      1\n",
       "1.11456E+13     1\n",
       "1.11463E+13     2\n",
       "1.11469E+14     1\n",
       "1.11523E+14     1\n",
       "1.11525E+12     1\n",
       "1.11525E+13     1\n",
       "1.11526E+12     4\n",
       "1.11536E+11     1\n",
       "1.11547E+11     1\n",
       "               ..\n",
       "99512431        1\n",
       "995277946       2\n",
       "99575164442     1\n",
       "99612449681     1\n",
       "99612996974     1\n",
       "9961417576      1\n",
       "99637671331    84\n",
       "99637837716     1\n",
       "99638668487     2\n",
       "99676396336     5\n",
       "99679785292     2\n",
       "99682621349     1\n",
       "99686781928     1\n",
       "99716715215     4\n",
       "99718131773     2\n",
       "99728164173     2\n",
       "997421611       1\n",
       "99761723841     2\n",
       "997694529       3\n",
       "99777928223     1\n",
       "99813573358     2\n",
       "99821629648     2\n",
       "99834588263     1\n",
       "99838843772     1\n",
       "9984717667      1\n",
       "9986111759      1\n",
       "99878214357     1\n",
       "99941478935     2\n",
       "99948393975     1\n",
       "99991756798     3\n",
       "Length: 61744, dtype: int64"
      ]
     },
     "execution_count": 21,
     "metadata": {},
     "output_type": "execute_result"
    },
    {
     "data": {
      "text/plain": [
       "AppointmentID\n",
       "5030230    1\n",
       "5122866    1\n",
       "5134197    1\n",
       "5134220    1\n",
       "5134223    1\n",
       "5134224    1\n",
       "5134227    1\n",
       "5134228    1\n",
       "5134233    1\n",
       "5134239    1\n",
       "5134243    1\n",
       "5134249    1\n",
       "5139826    1\n",
       "5139831    1\n",
       "5139832    1\n",
       "5139834    1\n",
       "5139839    1\n",
       "5139848    1\n",
       "5139853    1\n",
       "5139857    1\n",
       "5139859    1\n",
       "5139864    1\n",
       "5140065    1\n",
       "5140069    1\n",
       "5140074    1\n",
       "5140081    1\n",
       "5140090    1\n",
       "5140100    1\n",
       "5140105    1\n",
       "5140112    1\n",
       "          ..\n",
       "5790245    1\n",
       "5790248    1\n",
       "5790275    1\n",
       "5790284    1\n",
       "5790287    1\n",
       "5790292    1\n",
       "5790319    1\n",
       "5790322    1\n",
       "5790330    1\n",
       "5790351    1\n",
       "5790352    1\n",
       "5790355    1\n",
       "5790358    1\n",
       "5790362    1\n",
       "5790364    1\n",
       "5790367    1\n",
       "5790369    1\n",
       "5790370    1\n",
       "5790372    1\n",
       "5790376    1\n",
       "5790377    1\n",
       "5790416    1\n",
       "5790434    1\n",
       "5790447    1\n",
       "5790452    1\n",
       "5790461    1\n",
       "5790464    1\n",
       "5790466    1\n",
       "5790481    1\n",
       "5790484    1\n",
       "Length: 110527, dtype: int64"
      ]
     },
     "execution_count": 21,
     "metadata": {},
     "output_type": "execute_result"
    },
    {
     "data": {
      "text/plain": [
       "ScheduledDay\n",
       "2015-11-10T07:13:56Z    1\n",
       "2015-12-03T08:17:28Z    1\n",
       "2015-12-07T10:40:59Z    1\n",
       "2015-12-07T10:42:42Z    1\n",
       "2015-12-07T10:43:01Z    1\n",
       "2015-12-07T10:43:17Z    1\n",
       "2015-12-07T10:43:34Z    1\n",
       "2015-12-07T10:43:50Z    1\n",
       "2015-12-07T10:44:07Z    1\n",
       "2015-12-07T10:44:25Z    1\n",
       "2015-12-07T10:44:40Z    1\n",
       "2015-12-07T10:45:01Z    1\n",
       "2015-12-08T13:30:21Z    1\n",
       "2015-12-08T13:30:41Z    1\n",
       "2015-12-08T13:31:04Z    1\n",
       "2015-12-08T13:31:21Z    1\n",
       "2015-12-08T13:31:45Z    1\n",
       "2015-12-08T13:32:14Z    1\n",
       "2015-12-08T13:32:34Z    1\n",
       "2015-12-08T13:33:09Z    1\n",
       "2015-12-08T13:33:28Z    1\n",
       "2015-12-08T13:33:50Z    1\n",
       "2015-12-08T13:58:50Z    1\n",
       "2015-12-08T13:59:33Z    1\n",
       "2015-12-08T14:00:52Z    1\n",
       "2015-12-08T14:01:28Z    1\n",
       "2015-12-08T14:02:04Z    1\n",
       "2015-12-08T14:02:31Z    1\n",
       "2015-12-08T14:03:00Z    1\n",
       "2015-12-08T14:03:23Z    1\n",
       "                       ..\n",
       "2016-06-08T17:23:59Z    1\n",
       "2016-06-08T17:24:34Z    1\n",
       "2016-06-08T17:37:08Z    1\n",
       "2016-06-08T17:42:29Z    1\n",
       "2016-06-08T17:45:18Z    1\n",
       "2016-06-08T17:50:25Z    1\n",
       "2016-06-08T18:07:30Z    1\n",
       "2016-06-08T18:09:45Z    1\n",
       "2016-06-08T18:15:52Z    1\n",
       "2016-06-08T18:20:04Z    1\n",
       "2016-06-08T18:20:13Z    1\n",
       "2016-06-08T18:21:20Z    1\n",
       "2016-06-08T18:21:46Z    1\n",
       "2016-06-08T18:24:25Z    1\n",
       "2016-06-08T18:25:45Z    1\n",
       "2016-06-08T18:28:07Z    1\n",
       "2016-06-08T18:28:21Z    1\n",
       "2016-06-08T18:28:35Z    1\n",
       "2016-06-08T18:30:42Z    1\n",
       "2016-06-08T18:34:10Z    1\n",
       "2016-06-08T18:34:11Z    1\n",
       "2016-06-08T18:52:20Z    1\n",
       "2016-06-08T19:02:15Z    1\n",
       "2016-06-08T19:08:20Z    1\n",
       "2016-06-08T19:14:25Z    1\n",
       "2016-06-08T19:32:25Z    1\n",
       "2016-06-08T19:32:56Z    1\n",
       "2016-06-08T19:33:23Z    1\n",
       "2016-06-08T19:58:52Z    1\n",
       "2016-06-08T20:07:23Z    1\n",
       "Length: 103549, dtype: int64"
      ]
     },
     "execution_count": 21,
     "metadata": {},
     "output_type": "execute_result"
    },
    {
     "data": {
      "text/plain": [
       "AppointmentDay\n",
       "2016-04-29T00:00:00Z    3235\n",
       "2016-05-02T00:00:00Z    4376\n",
       "2016-05-03T00:00:00Z    4256\n",
       "2016-05-04T00:00:00Z    4168\n",
       "2016-05-05T00:00:00Z    4273\n",
       "2016-05-06T00:00:00Z    3879\n",
       "2016-05-09T00:00:00Z    4520\n",
       "2016-05-10T00:00:00Z    4308\n",
       "2016-05-11T00:00:00Z    4474\n",
       "2016-05-12T00:00:00Z    4394\n",
       "2016-05-13T00:00:00Z    3987\n",
       "2016-05-14T00:00:00Z      39\n",
       "2016-05-16T00:00:00Z    4613\n",
       "2016-05-17T00:00:00Z    4372\n",
       "2016-05-18T00:00:00Z    4373\n",
       "2016-05-19T00:00:00Z    4270\n",
       "2016-05-20T00:00:00Z    3828\n",
       "2016-05-24T00:00:00Z    4009\n",
       "2016-05-25T00:00:00Z    3909\n",
       "2016-05-30T00:00:00Z    4514\n",
       "2016-05-31T00:00:00Z    4279\n",
       "2016-06-01T00:00:00Z    4464\n",
       "2016-06-02T00:00:00Z    4310\n",
       "2016-06-03T00:00:00Z    4090\n",
       "2016-06-06T00:00:00Z    4692\n",
       "2016-06-07T00:00:00Z    4416\n",
       "2016-06-08T00:00:00Z    4479\n",
       "dtype: int64"
      ]
     },
     "execution_count": 21,
     "metadata": {},
     "output_type": "execute_result"
    },
    {
     "data": {
      "text/plain": [
       "Neighbourhood\n",
       "AEROPORTO                 8\n",
       "ANDORINHAS             2262\n",
       "ANT?NIO HON?RIO         271\n",
       "ARIOVALDO FAVALESSA     282\n",
       "BARRO VERMELHO          423\n",
       "BELA VISTA             1907\n",
       "BENTO FERREIRA          858\n",
       "BOA VISTA               312\n",
       "BONFIM                 2773\n",
       "CARATO?RA              2565\n",
       "CENTRO                 3334\n",
       "COMDUSA                 310\n",
       "CONQUISTA               849\n",
       "CONSOLA??O             1376\n",
       "CRUZAMENTO             1398\n",
       "DA PENHA               2217\n",
       "DE LOURDES              305\n",
       "DO CABRAL               560\n",
       "DO MOSCOSO              413\n",
       "DO QUADRO               849\n",
       "ENSEADA DO SU?          235\n",
       "ESTRELINHA              538\n",
       "FONTE GRANDE            682\n",
       "FORTE S?O JO?O         1889\n",
       "FRADINHOS               258\n",
       "GOIABEIRAS              700\n",
       "GRANDE VIT?RIA         1071\n",
       "GURIGICA               2018\n",
       "HORTO                   175\n",
       "ILHA DAS CAIEIRAS      1071\n",
       "                       ... \n",
       "PARQUE INDUSTRIAL         1\n",
       "PARQUE MOSCOSO          802\n",
       "PIEDADE                 452\n",
       "PONTAL DE CAMBURI        69\n",
       "PRAIA DO CANTO         1035\n",
       "PRAIA DO SU?           1288\n",
       "REDEN??O               1553\n",
       "REP?BLICA               835\n",
       "RESIST?NCIA            4431\n",
       "ROM?O                  2215\n",
       "S?O BENEDITO           1439\n",
       "S?O CRIST?V?O          1836\n",
       "S?O JOS?               1977\n",
       "S?O PEDRO              2448\n",
       "SANTA CEC?LIA           448\n",
       "SANTA CLARA             506\n",
       "SANTA HELENA            178\n",
       "SANTA L?CIA             438\n",
       "SANTA LU?ZA             428\n",
       "SANTA MARTHA           3131\n",
       "SANTA TEREZA           1332\n",
       "SANTO ANDR?            2571\n",
       "SANTO ANT?NIO          2746\n",
       "SANTOS DUMONT          1276\n",
       "SANTOS REIS             547\n",
       "SEGURAN?A DO LAR        145\n",
       "SOLON BORGES            469\n",
       "TABUAZEIRO             3132\n",
       "UNIVERSIT?RIO           152\n",
       "VILA RUBIM              851\n",
       "Length: 81, dtype: int64"
      ]
     },
     "execution_count": 21,
     "metadata": {},
     "output_type": "execute_result"
    },
    {
     "data": {
      "text/plain": [
       "Age\n",
       "-1         1\n",
       " 0      3539\n",
       " 1      2273\n",
       " 2      1618\n",
       " 3      1513\n",
       " 4      1299\n",
       " 5      1489\n",
       " 6      1521\n",
       " 7      1427\n",
       " 8      1424\n",
       " 9      1372\n",
       " 10     1274\n",
       " 11     1195\n",
       " 12     1092\n",
       " 13     1103\n",
       " 14     1118\n",
       " 15     1211\n",
       " 16     1402\n",
       " 17     1509\n",
       " 18     1487\n",
       " 19     1545\n",
       " 20     1437\n",
       " 21     1452\n",
       " 22     1376\n",
       " 23     1349\n",
       " 24     1242\n",
       " 25     1332\n",
       " 26     1283\n",
       " 27     1377\n",
       " 28     1448\n",
       "        ... \n",
       " 73      725\n",
       " 74      602\n",
       " 75      544\n",
       " 76      571\n",
       " 77      527\n",
       " 78      541\n",
       " 79      390\n",
       " 80      511\n",
       " 81      434\n",
       " 82      392\n",
       " 83      280\n",
       " 84      311\n",
       " 85      275\n",
       " 86      260\n",
       " 87      184\n",
       " 88      126\n",
       " 89      173\n",
       " 90      109\n",
       " 91       66\n",
       " 92       86\n",
       " 93       53\n",
       " 94       33\n",
       " 95       24\n",
       " 96       17\n",
       " 97       11\n",
       " 98        6\n",
       " 99        1\n",
       " 100       4\n",
       " 102       2\n",
       " 115       5\n",
       "Length: 104, dtype: int64"
      ]
     },
     "execution_count": 21,
     "metadata": {},
     "output_type": "execute_result"
    },
    {
     "data": {
      "text/plain": [
       "Scholarship\n",
       "0    99666\n",
       "1    10861\n",
       "dtype: int64"
      ]
     },
     "execution_count": 21,
     "metadata": {},
     "output_type": "execute_result"
    },
    {
     "data": {
      "text/plain": [
       "Hipertension\n",
       "0    88726\n",
       "1    21801\n",
       "dtype: int64"
      ]
     },
     "execution_count": 21,
     "metadata": {},
     "output_type": "execute_result"
    },
    {
     "data": {
      "text/plain": [
       "Diabetes\n",
       "0    102584\n",
       "1      7943\n",
       "dtype: int64"
      ]
     },
     "execution_count": 21,
     "metadata": {},
     "output_type": "execute_result"
    },
    {
     "data": {
      "text/plain": [
       "Alcoholism\n",
       "0    107167\n",
       "1      3360\n",
       "dtype: int64"
      ]
     },
     "execution_count": 21,
     "metadata": {},
     "output_type": "execute_result"
    },
    {
     "data": {
      "text/plain": [
       "Handcap\n",
       "0    108286\n",
       "1      2042\n",
       "2       183\n",
       "3        13\n",
       "4         3\n",
       "dtype: int64"
      ]
     },
     "execution_count": 21,
     "metadata": {},
     "output_type": "execute_result"
    },
    {
     "data": {
      "text/plain": [
       "SMS_received\n",
       "0.0    75005\n",
       "1.0    35463\n",
       "dtype: int64"
      ]
     },
     "execution_count": 21,
     "metadata": {},
     "output_type": "execute_result"
    },
    {
     "data": {
      "text/plain": [
       "No-show\n",
       "No     88208\n",
       "Yes    22319\n",
       "dtype: int64"
      ]
     },
     "execution_count": 21,
     "metadata": {},
     "output_type": "execute_result"
    }
   ],
   "source": [
    "#Variable Summary - Others\n",
    "df0.hist(figsize=(12,10))\n",
    "\n",
    "summary1D = df0.groupby('PatientId').size()\n",
    "summary1D\n",
    "\n",
    "summary1D = df0.groupby('AppointmentID').size()\n",
    "summary1D\n",
    "\n",
    "summary1E = df0.groupby('ScheduledDay').size()\n",
    "summary1E\n",
    "\n",
    "summary1F = df0.groupby('AppointmentDay').size()\n",
    "summary1F\n",
    "\n",
    "summary1G = df0.groupby('Neighbourhood').size()\n",
    "summary1G\n",
    "\n",
    "summary1I = df0.groupby('Age').size()\n",
    "summary1I\n",
    "\n",
    "summary1J = df0.groupby('Scholarship').size()\n",
    "summary1J\n",
    "\n",
    "summary1K = df0.groupby('Hipertension').size()\n",
    "summary1K\n",
    "\n",
    "summary1L = df0.groupby('Diabetes').size()\n",
    "summary1L\n",
    "\n",
    "summary1M = df0.groupby('Alcoholism').size()\n",
    "summary1M\n",
    "\n",
    "summary1N = df0.groupby('Handcap').size()\n",
    "summary1N\n",
    "\n",
    "summary1O = df0.groupby('SMS_received').size()\n",
    "summary1O\n",
    "\n",
    "summary1P = df0.groupby('No-show').size()\n",
    "summary1P\n",
    "plt.hist(df0['No-show'], bins=len(df0['No-show'].unique()),rwidth=0.5)"
   ]
  },
  {
   "cell_type": "code",
   "execution_count": 22,
   "metadata": {},
   "outputs": [],
   "source": [
    "## Count Plot to see the distribution of individual variable and 'No-show' variable\n",
    "sns.countplot('PatientId', data=df0, hue='No-show')\n",
    "sns.countplot('Scholarship', data=df0, hue='No-show')\n",
    "sns.countplot('Hipertension', data=df0, hue='No-show')\n",
    "sns.countplot('Diabetes', data=df0, hue='No-show')\n",
    "sns.countplot('Alcoholism', data=df0, hue='No-show')\n",
    "sns.countplot('Handcap', data=df0, hue='No-show')\n",
    "sns.countplot('Gender', data=df0, hue='No-show')\n",
    "sns.countplot('AppointmentDay', data=df0, hue='No-show')\n",
    "sns.countplot('Age', data=df0, hue='No-show')\n",
    "sns.countplot('Neighbourhood', data=df0, hue='No-show')\n",
    "sns.countplot('SMS_received', data=df0, hue='No-show')"
   ]
  },
  {
   "cell_type": "code",
   "execution_count": 23,
   "metadata": {
    "scrolled": false
   },
   "outputs": [],
   "source": [
    "## Violin Plot to see the categorical data \n",
    "sns.catplot(data=df0, kind=\"violin\", x=\"Gender\", y=\"Hipertension\", hue=\"No-show\", split=True)\n",
    "sns.catplot(data=df0, kind=\"violin\", x=\"Gender\", y=\"Diabetes\", hue=\"No-show\", split=True)#\n",
    "sns.catplot(data=df0, kind=\"violin\", x=\"Gender\", y=\"Alcoholism\", hue=\"No-show\", split=True)\n",
    "sns.catplot(data=df0, kind=\"violin\", x=\"Gender\", y=\"Handcap\", hue=\"No-show\", split=True)\n",
    "sns.catplot(data=df0, kind=\"violin\", x=\"Gender\", y=\"AppointmentID\", hue=\"No-show\", split=True)\n",
    "sns.catplot(data=df0, kind=\"violin\", x=\"Gender\", y=\"Age\", hue=\"No-show\", split=True)\n",
    "sns.catplot(data=df0, kind=\"violin\", x=\"Gender\", y=\"SMS_received\", hue=\"No-show\", split=True)\n",
    "\n",
    "sns.catplot(data=df0, kind=\"violin\", x=\"SMS_received\", y=\"Hipertension\", hue=\"No-show\", split=True)\n",
    "sns.catplot(data=df0, kind=\"violin\", x=\"SMS_received\", y=\"Diabetes\", hue=\"No-show\", split=True)\n",
    "sns.catplot(data=df0, kind=\"violin\", x=\"SMS_received\", y=\"Alcoholism\", hue=\"No-show\", split=True)\n",
    "sns.catplot(data=df0, kind=\"violin\", x=\"SMS_received\", y=\"Handcap\", hue=\"No-show\", split=True)\n",
    "sns.catplot(data=df0, kind=\"violin\", x=\"SMS_received\", y=\"AppointmentID\", hue=\"No-show\", split=True)\n",
    "sns.catplot(data=df0, kind=\"violin\", x=\"SMS_received\", y=\"Age\", hue=\"No-show\", split=True)\n"
   ]
  }
 ],
 "metadata": {
  "kernelspec": {
   "display_name": "Python 3",
   "language": "python",
   "name": "python3"
  },
  "language_info": {
   "codemirror_mode": {
    "name": "ipython",
    "version": 3
   },
   "file_extension": ".py",
   "mimetype": "text/x-python",
   "name": "python",
   "nbconvert_exporter": "python",
   "pygments_lexer": "ipython3",
   "version": "3.7.3"
  }
 },
 "nbformat": 4,
 "nbformat_minor": 2
}
